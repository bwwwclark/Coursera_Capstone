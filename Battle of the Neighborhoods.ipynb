{
    "cells": [
        {
            "cell_type": "markdown",
            "metadata": {
                "collapsed": true
            },
            "source": "# A description of the problem and a discussion of the background. (15 marks)\n\n\n\nFind the best neighborhoods for finding good food in New York. \nWe can do this by finding the neighborhoods with the highest ratings, and the neighborhoods with the most restaurants. \nWe may also be able to compare neighborhoods that have both a lot of restaurants and a large proportion of highly rated restaurants. \n\n\n\n\n\n\n\n"
        },
        {
            "cell_type": "markdown",
            "metadata": {},
            "source": " # A description of the data and how it will be used to solve the problem. (15 marks)\n\n\nWe'll use the Foursquare API to pull restaurant data for New York city's 5 boroughs. We'll use k square to segment the city into neighborhoods.\nWe'll find the total number of restaurants in each of the neighborhood and the average rating of each neighborhood's restaurant.\nWe will compare the lists to see which neighborhoods are in both the top 5  or so neighborhoods on both lists to find the winner of best food neighborhood in New York!\n"
        },
        {
            "cell_type": "code",
            "execution_count": null,
            "metadata": {},
            "outputs": [],
            "source": ""
        }
    ],
    "metadata": {
        "kernelspec": {
            "display_name": "Python 3.6",
            "language": "python",
            "name": "python3"
        },
        "language_info": {
            "codemirror_mode": {
                "name": "ipython",
                "version": 3
            },
            "file_extension": ".py",
            "mimetype": "text/x-python",
            "name": "python",
            "nbconvert_exporter": "python",
            "pygments_lexer": "ipython3",
            "version": "3.6.9"
        }
    },
    "nbformat": 4,
    "nbformat_minor": 1
}